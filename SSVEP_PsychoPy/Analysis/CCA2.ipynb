{
 "cells": [
  {
   "cell_type": "code",
   "execution_count": 1,
   "metadata": {},
   "outputs": [],
   "source": [
    "%matplotlib inline"
   ]
  },
  {
   "cell_type": "code",
   "execution_count": 2,
   "metadata": {},
   "outputs": [],
   "source": [
    "import math\n",
    "import numpy as np\n",
    "from numpy import genfromtxt\n",
    "import matplotlib.pyplot as plt\n",
    "import matplotlib.animation as animation\n",
    "import pandas as pd\n",
    "import seaborn as sns\n",
    "from IPython.display import display, HTML\n",
    "from sklearn.cross_decomposition import CCA\n",
    "from brainflow.data_filter import DataFilter, FilterTypes, AggOperations, NoiseTypes, DetrendOperations, WindowOperations\n",
    "from brainflow.board_shim import BoardShim, BrainFlowInputParams, BoardIds"
   ]
  },
  {
   "cell_type": "code",
   "execution_count": 3,
   "metadata": {},
   "outputs": [],
   "source": [
    "board_id = BoardIds.UNICORN_BOARD\n",
    "board = BoardShim(board_id, BrainFlowInputParams())"
   ]
  },
  {
   "cell_type": "code",
   "execution_count": 4,
   "metadata": {},
   "outputs": [
    {
     "name": "stdout",
     "output_type": "stream",
     "text": [
      "Channels:  [0, 1, 2, 3, 4, 5, 6, 7]\n",
      "Timestamp:  17\n",
      "Marker:  18\n",
      "Sampling Rate:  250\n"
     ]
    }
   ],
   "source": [
    "channels = board.get_eeg_channels(board_id) #EEG Channels\n",
    "timestamp_channel = board.get_timestamp_channel(board_id) # Timestamp channel\n",
    "marker_channel = board.get_marker_channel(board_id) # Marker channel for synchronization\n",
    "sampling_rate = BoardShim.get_sampling_rate(board_id) # Hz\n",
    "print(\"Channels: \", channels)\n",
    "print(\"Timestamp: \", timestamp_channel)\n",
    "print(\"Marker: \", marker_channel)\n",
    "print(\"Sampling Rate: \", sampling_rate)"
   ]
  },
  {
   "cell_type": "code",
   "execution_count": 6,
   "metadata": {},
   "outputs": [],
   "source": [
    "df = pd.read_csv('data/eeg_data2.csv', header=None)"
   ]
  },
  {
   "cell_type": "code",
   "execution_count": 7,
   "metadata": {},
   "outputs": [],
   "source": [
    "x_ = df[timestamp_channel]\n",
    "Oz = df[channels[6]]\n",
    "Po7 = df[channels[5]]\n",
    "Po8 = df[channels[7]]\n",
    "\n",
    "montage_1 = Po7.to_numpy() - Oz.to_numpy()\n",
    "montage_2 = Po8.to_numpy() - Oz.to_numpy()"
   ]
  },
  {
   "cell_type": "code",
   "execution_count": 8,
   "metadata": {},
   "outputs": [],
   "source": [
    "filtered_eeg = [montage_1, montage_2]\n",
    "\n",
    "for i in range(len(filtered_eeg)):\n",
    "    DataFilter.perform_bandpass(filtered_eeg[i], sampling_rate, 2.0, 30.0, 2, FilterTypes.BUTTERWORTH_ZERO_PHASE, 0)\n",
    "    DataFilter.perform_bandstop(filtered_eeg[i], sampling_rate, 58.0, 62.0, 5, FilterTypes.BUTTERWORTH_ZERO_PHASE, 0)"
   ]
  },
  {
   "cell_type": "code",
   "execution_count": 22,
   "metadata": {},
   "outputs": [],
   "source": [
    "first = df.loc[df[marker_channel] == 4].index[0]\n",
    "first_eeg = []\n",
    "for i in range(2):\n",
    "    first_eeg.append(filtered_eeg[i][first:first+sampling_rate*15])\n",
    "target_time_18hz = x_[first:first+sampling_rate*15]"
   ]
  },
  {
   "cell_type": "code",
   "execution_count": 23,
   "metadata": {},
   "outputs": [],
   "source": [
    "f_18 = 18\n",
    "f_16 = 16\n",
    "f_24 = 24\n",
    "f_9 = 9\n",
    "\n",
    "y_18 = []\n",
    "y_16 = []\n",
    "y_24 = []\n",
    "y_9 = []\n",
    "\n",
    "# time = np.linspace(0, 10, sampling_rate*15)\n",
    "time = target_time_18hz\n",
    "for i in range(2):\n",
    "    y_18.append(np.sin(2*(i+1)*np.pi*f_18*time))\n",
    "    y_18.append(np.cos(2*(i+1)*np.pi*f_18*time))\n",
    "    y_16.append(np.sin(2*(i+1)*np.pi*f_16*time))\n",
    "    y_16.append(np.cos(2*(i+1)*np.pi*f_16*time))\n",
    "    y_9.append(np.sin(2*(i+1)*np.pi*f_9*time))\n",
    "    y_9.append(np.cos(2*(i+1)*np.pi*f_9*time))\n",
    "    y_24.append(np.sin(2*(i+1)*np.pi*f_24*time))\n",
    "    y_24.append(np.cos(2*(i+1)*np.pi*f_24*time))\n",
    "    \n",
    "# print(y_18)\n",
    "# plt.plot(time, y_18[0])"
   ]
  },
  {
   "cell_type": "code",
   "execution_count": 24,
   "metadata": {},
   "outputs": [],
   "source": [
    "def coeff(x, y):\n",
    "    x_t = np.transpose(x)\n",
    "    y_t = np.transpose(y)\n",
    "    \n",
    "    cca = CCA(n_components=2)\n",
    "    cca.fit_transform(x_t, y_t)\n",
    "    X_c, Y_c = cca.transform(x_t, y_t)\n",
    "    corr=[]\n",
    "    \n",
    "    for i in range(0,2):\n",
    "\t    corr.append(np.corrcoef(X_c[:,i], Y_c[:,i])[0,1])\n",
    "    \n",
    "    return max(corr)"
   ]
  },
  {
   "cell_type": "code",
   "execution_count": 25,
   "metadata": {},
   "outputs": [
    {
     "name": "stdout",
     "output_type": "stream",
     "text": [
      "24\n"
     ]
    }
   ],
   "source": [
    "results = []\n",
    "\n",
    "results.append(coeff(first_eeg, y_18))\n",
    "results.append(coeff(first_eeg, y_16))\n",
    "results.append(coeff(first_eeg, y_9))\n",
    "results.append(coeff(first_eeg, y_24))\n",
    "\n",
    "target_f = np.argmax(results)\n",
    "\n",
    "if target_f == 0:\n",
    "    print(\"18\")\n",
    "if target_f == 1:\n",
    "    print(\"16\")\n",
    "if target_f == 2:\n",
    "    print(\"9\")\n",
    "if target_f == 3:\n",
    "    print(\"24\")\n"
   ]
  }
 ],
 "metadata": {
  "kernelspec": {
   "display_name": "Python 3",
   "language": "python",
   "name": "python3"
  },
  "language_info": {
   "codemirror_mode": {
    "name": "ipython",
    "version": 3
   },
   "file_extension": ".py",
   "mimetype": "text/x-python",
   "name": "python",
   "nbconvert_exporter": "python",
   "pygments_lexer": "ipython3",
   "version": "3.9.6"
  }
 },
 "nbformat": 4,
 "nbformat_minor": 2
}
