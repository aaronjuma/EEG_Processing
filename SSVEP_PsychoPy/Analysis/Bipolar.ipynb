{
 "cells": [
  {
   "cell_type": "code",
   "execution_count": null,
   "metadata": {},
   "outputs": [],
   "source": [
    "%matplotlib inline"
   ]
  },
  {
   "cell_type": "code",
   "execution_count": 92,
   "metadata": {},
   "outputs": [],
   "source": [
    "import math\n",
    "import numpy as np\n",
    "from numpy import genfromtxt\n",
    "import matplotlib.pyplot as plt\n",
    "import matplotlib.animation as animation\n",
    "import pandas as pd\n",
    "import seaborn as sns\n",
    "from IPython.display import display, HTML\n",
    "from brainflow.data_filter import DataFilter, AggOperations, WaveletTypes, NoiseEstimationLevelTypes, WaveletExtensionTypes, ThresholdTypes, WaveletDenoisingTypes\n",
    "from brainflow.data_filter import DataFilter, FilterTypes, AggOperations, NoiseTypes, DetrendOperations, WindowOperations\n",
    "from brainflow.board_shim import BoardShim, BrainFlowInputParams, BoardIds"
   ]
  },
  {
   "cell_type": "code",
   "execution_count": 93,
   "metadata": {},
   "outputs": [],
   "source": [
    "board_id = BoardIds.UNICORN_BOARD\n",
    "board = BoardShim(board_id, BrainFlowInputParams())"
   ]
  },
  {
   "cell_type": "code",
   "execution_count": 94,
   "metadata": {},
   "outputs": [
    {
     "name": "stdout",
     "output_type": "stream",
     "text": [
      "Channels:  [0, 1, 2, 3, 4, 5, 6, 7]\n",
      "Timestamp:  17\n",
      "Marker:  18\n",
      "Sampling Rate:  250\n"
     ]
    }
   ],
   "source": [
    "channels = board.get_eeg_channels(board_id) #EEG Channels\n",
    "timestamp_channel = board.get_timestamp_channel(board_id) # Timestamp channel\n",
    "marker_channel = board.get_marker_channel(board_id) # Marker channel for synchronization\n",
    "sampling_rate = BoardShim.get_sampling_rate(board_id) # Hz\n",
    "print(\"Channels: \", channels)\n",
    "print(\"Timestamp: \", timestamp_channel)\n",
    "print(\"Marker: \", marker_channel)\n",
    "print(\"Sampling Rate: \", sampling_rate)"
   ]
  },
  {
   "cell_type": "code",
   "execution_count": 95,
   "metadata": {},
   "outputs": [],
   "source": [
    "df = pd.read_csv('data/eeg_data1.csv', header=None)"
   ]
  },
  {
   "cell_type": "code",
   "execution_count": 96,
   "metadata": {},
   "outputs": [],
   "source": [
    "x_ = df[timestamp_channel]\n",
    "Oz = df[channels[6]]\n",
    "Po7 = df[channels[5]]\n",
    "Po8 = df[channels[7]]\n",
    "\n",
    "eeg_data = Po7.to_numpy() - Oz.to_numpy()"
   ]
  },
  {
   "cell_type": "code",
   "execution_count": 97,
   "metadata": {},
   "outputs": [],
   "source": [
    "filtered_eeg = eeg_data\n",
    "DataFilter.perform_bandpass(filtered_eeg, sampling_rate, 2.0, 30.0, 2, FilterTypes.BUTTERWORTH_ZERO_PHASE, 0)\n",
    "DataFilter.perform_bandstop(filtered_eeg, sampling_rate, 58.0, 62.0, 5, FilterTypes.BUTTERWORTH_ZERO_PHASE, 0)"
   ]
  },
  {
   "cell_type": "code",
   "execution_count": 98,
   "metadata": {},
   "outputs": [
    {
     "data": {
      "text/html": [
       "<table><tr><td><img src='figures/eeg18hz.jpg'></td><td><img src='figures/base18hz.jpg'></td></tr></table>"
      ],
      "text/plain": [
       "<IPython.core.display.HTML object>"
      ]
     },
     "metadata": {},
     "output_type": "display_data"
    }
   ],
   "source": [
    "first = df.loc[df[marker_channel] == 1].index[0]\n",
    "target_eeg_18hz = filtered_eeg[first:first+sampling_rate*20]\n",
    "target_time_18hz = x_[first:first+sampling_rate*20]\n",
    "sns.lineplot(x=target_time_18hz,y=target_eeg_18hz)\n",
    "plt.savefig('figures/eeg18hz.jpg')\n",
    "plt.close()\n",
    "\n",
    "base_first = df.loc[df[marker_channel] == 2].index[0]\n",
    "base_eeg_18hz = filtered_eeg[base_first:base_first+sampling_rate*20]\n",
    "base_time_18hz = x_[base_first:base_first+sampling_rate*20]\n",
    "sns.lineplot(x=base_time_18hz,y=base_eeg_18hz)\n",
    "plt.savefig('figures/base18hz.jpg')\n",
    "plt.close()\n",
    "\n",
    "display(HTML(f\"<table><tr><td><img src='figures/eeg18hz.jpg'></td><td><img src='figures/base18hz.jpg'></td></tr></table>\"))"
   ]
  },
  {
   "cell_type": "code",
   "execution_count": 99,
   "metadata": {},
   "outputs": [
    {
     "name": "stdout",
     "output_type": "stream",
     "text": [
      "17.578125\n"
     ]
    },
    {
     "data": {
      "text/html": [
       "<table><tr><td><img src='figures/psd_eeg18hz.jpg'></td><td><img src='figures/psd_base18hz.jpg'></td></tr></table>"
      ],
      "text/plain": [
       "<IPython.core.display.HTML object>"
      ]
     },
     "metadata": {},
     "output_type": "display_data"
    }
   ],
   "source": [
    "nfft = DataFilter.get_nearest_power_of_two(sampling_rate)\n",
    "\n",
    "target_psd_18hz = DataFilter.get_psd_welch(target_eeg_18hz, nfft, nfft // 2, sampling_rate, WindowOperations.BLACKMAN_HARRIS.value)\n",
    "base_psd_18hz = DataFilter.get_psd_welch(base_eeg_18hz, nfft, nfft // 2, sampling_rate, WindowOperations.BLACKMAN_HARRIS.value)\n",
    "\n",
    "sns.lineplot(x=target_psd_18hz[1],y=target_psd_18hz[0])\n",
    "plt.xlim(0, 40)\n",
    "plt.savefig('figures/psd_eeg18hz.jpg')\n",
    "plt.close()\n",
    "sns.lineplot(x=base_psd_18hz[1],y=base_psd_18hz[0])\n",
    "plt.xlim(0, 40)\n",
    "plt.savefig('figures/psd_base18hz.jpg')\n",
    "plt.close()\n",
    "\n",
    "diff_t = (base_psd_18hz[1]+target_psd_18hz[1])/2\n",
    "diff_y = target_psd_18hz[0]-base_psd_18hz[0]\n",
    "print(diff_t[np.argmax(diff_y)])\n",
    "sns.lineplot(x=diff_t,y=diff_y)\n",
    "plt.xlim(0, 40)\n",
    "plt.savefig('figures/psd_diff18hz.jpg')\n",
    "plt.close()\n",
    "\n",
    "\n",
    "display(HTML(f\"<table><tr><td><img src='figures/psd_eeg18hz.jpg'></td><td><img src='figures/psd_base18hz.jpg'></td></tr></table>\"))"
   ]
  },
  {
   "cell_type": "code",
   "execution_count": 100,
   "metadata": {},
   "outputs": [
    {
     "data": {
      "text/html": [
       "<table><tr><td><img src='figures/eeg16hz.jpg'></td><td><img src='figures/base16hz.jpg'></td></tr></table>"
      ],
      "text/plain": [
       "<IPython.core.display.HTML object>"
      ]
     },
     "metadata": {},
     "output_type": "display_data"
    }
   ],
   "source": [
    "second = df.loc[df[marker_channel] == 3].index[0]\n",
    "target_eeg_16hz = filtered_eeg[second:second+sampling_rate*20]\n",
    "target_time_16hz = x_[second:second+sampling_rate*20]\n",
    "sns.lineplot(x=target_time_16hz, y=target_eeg_16hz)\n",
    "plt.savefig('figures/eeg16hz.jpg')\n",
    "plt.close()\n",
    "\n",
    "base_second = df.loc[df[marker_channel] == 4].index[0]\n",
    "base_eeg_16hz = filtered_eeg[base_second:base_second+sampling_rate*20]\n",
    "base_time_16hz = x_[base_second:base_second+sampling_rate*20]\n",
    "sns.lineplot(x=base_time_16hz,y=base_eeg_16hz)\n",
    "plt.savefig('figures/base16hz.jpg')\n",
    "plt.close()\n",
    "\n",
    "display(HTML(f\"<table><tr><td><img src='figures/eeg16hz.jpg'></td><td><img src='figures/base16hz.jpg'></td></tr></table>\"))"
   ]
  },
  {
   "cell_type": "code",
   "execution_count": 101,
   "metadata": {},
   "outputs": [
    {
     "name": "stdout",
     "output_type": "stream",
     "text": [
      "15.625\n"
     ]
    },
    {
     "data": {
      "text/html": [
       "<table><tr><td><img src='figures/psd_eeg16hz.jpg'></td><td><img src='figures/psd_base16hz.jpg'></td></tr></table>"
      ],
      "text/plain": [
       "<IPython.core.display.HTML object>"
      ]
     },
     "metadata": {},
     "output_type": "display_data"
    }
   ],
   "source": [
    "target_psd_16hz = DataFilter.get_psd_welch(target_eeg_16hz, nfft, nfft // 2, sampling_rate, WindowOperations.BLACKMAN_HARRIS.value)\n",
    "base_psd_16hz = DataFilter.get_psd_welch(base_eeg_16hz, nfft, nfft // 2, sampling_rate, WindowOperations.BLACKMAN_HARRIS.value)\n",
    "\n",
    "sns.lineplot(x=target_psd_16hz[1],y=target_psd_16hz[0])\n",
    "plt.xlim(0, 40)\n",
    "plt.savefig('figures/psd_eeg16hz.jpg')\n",
    "plt.close()\n",
    "sns.lineplot(x=base_psd_16hz[1],y=base_psd_16hz[0])\n",
    "plt.xlim(0, 40)\n",
    "plt.savefig('figures/psd_base16hz.jpg')\n",
    "plt.close()\n",
    "\n",
    "diff_t = (base_psd_16hz[1]+target_psd_16hz[1])/2\n",
    "diff_y = target_psd_16hz[0]-base_psd_16hz[0]\n",
    "print(diff_t[np.argmax(diff_y)])\n",
    "sns.lineplot(x=diff_t,y=diff_y)\n",
    "plt.xlim(0, 40)\n",
    "plt.savefig('figures/psd_diff16hz.jpg')\n",
    "plt.close()\n",
    "\n",
    "display(HTML(f\"<table><tr><td><img src='figures/psd_eeg16hz.jpg'></td><td><img src='figures/psd_base16hz.jpg'></td></tr></table>\"))"
   ]
  },
  {
   "cell_type": "code",
   "execution_count": 102,
   "metadata": {},
   "outputs": [
    {
     "data": {
      "text/html": [
       "<table><tr><td><img src='figures/eeg9hz.jpg'></td><td><img src='figures/base9hz.jpg'></td></tr></table>"
      ],
      "text/plain": [
       "<IPython.core.display.HTML object>"
      ]
     },
     "metadata": {},
     "output_type": "display_data"
    }
   ],
   "source": [
    "third = df.loc[df[marker_channel] == 5].index[0]\n",
    "target_eeg_9hz = filtered_eeg[third:third+sampling_rate*20]\n",
    "target_time_9hz = x_[third:third+sampling_rate*20]\n",
    "sns.lineplot(x=target_time_9hz,y=target_eeg_9hz)\n",
    "plt.savefig('figures/eeg9hz.jpg')\n",
    "plt.close()\n",
    "\n",
    "base_third = df.loc[df[marker_channel] == 6].index[0]\n",
    "base_eeg_9hz = filtered_eeg[base_third:base_third+sampling_rate*20]\n",
    "base_time_9hz = x_[base_third:base_third+sampling_rate*20]\n",
    "sns.lineplot(x=base_time_9hz,y=base_eeg_9hz)\n",
    "plt.savefig('figures/base9hz.jpg')\n",
    "plt.close()\n",
    "\n",
    "display(HTML(f\"<table><tr><td><img src='figures/eeg9hz.jpg'></td><td><img src='figures/base9hz.jpg'></td></tr></table>\"))"
   ]
  },
  {
   "cell_type": "code",
   "execution_count": 103,
   "metadata": {},
   "outputs": [
    {
     "name": "stdout",
     "output_type": "stream",
     "text": [
      "8.7890625\n"
     ]
    },
    {
     "data": {
      "text/html": [
       "<table><tr><td><img src='figures/psd_eeg9hz.jpg'></td><td><img src='figures/psd_base9hz.jpg'></td></tr></table>"
      ],
      "text/plain": [
       "<IPython.core.display.HTML object>"
      ]
     },
     "metadata": {},
     "output_type": "display_data"
    }
   ],
   "source": [
    "target_psd_9hz = DataFilter.get_psd_welch(target_eeg_9hz, nfft, nfft // 2, sampling_rate, WindowOperations.BLACKMAN_HARRIS.value)\n",
    "base_psd_9hz = DataFilter.get_psd_welch(base_eeg_9hz, nfft, nfft // 2, sampling_rate, WindowOperations.BLACKMAN_HARRIS.value)\n",
    "\n",
    "sns.lineplot(x=target_psd_9hz[1],y=target_psd_9hz[0])\n",
    "plt.xlim(0, 40)\n",
    "plt.savefig('figures/psd_eeg9hz.jpg')\n",
    "plt.close()\n",
    "sns.lineplot(x=base_psd_9hz[1],y=base_psd_9hz[0])\n",
    "plt.xlim(0, 40)\n",
    "plt.savefig('figures/psd_base9hz.jpg')\n",
    "plt.close()\n",
    "\n",
    "diff_t = (base_psd_9hz[1]+target_psd_9hz[1])/2\n",
    "diff_y = target_psd_9hz[0]-base_psd_9hz[0]\n",
    "print(diff_t[np.argmax(diff_y)])\n",
    "sns.lineplot(x=diff_t,y=diff_y)\n",
    "plt.xlim(0, 40)\n",
    "plt.savefig('figures/psd_diff9hz.jpg')\n",
    "plt.close()\n",
    "\n",
    "display(HTML(f\"<table><tr><td><img src='figures/psd_eeg9hz.jpg'></td><td><img src='figures/psd_base9hz.jpg'></td></tr></table>\"))"
   ]
  },
  {
   "cell_type": "code",
   "execution_count": 104,
   "metadata": {},
   "outputs": [
    {
     "data": {
      "text/html": [
       "<table><tr><td><img src='figures/eeg24hz.jpg'></td><td><img src='figures/base24hz.jpg'></td></tr></table>"
      ],
      "text/plain": [
       "<IPython.core.display.HTML object>"
      ]
     },
     "metadata": {},
     "output_type": "display_data"
    }
   ],
   "source": [
    "fourth = df.loc[df[marker_channel] == 7].index[0]\n",
    "target_eeg_24hz = filtered_eeg[fourth:fourth+sampling_rate*20]\n",
    "target_time_24hz = x_[fourth:fourth+sampling_rate*20]\n",
    "sns.lineplot(x=target_time_24hz,y=target_eeg_24hz)\n",
    "plt.savefig('figures/eeg24hz.jpg')\n",
    "plt.close()\n",
    "\n",
    "base_fourth = base_third\n",
    "base_eeg_24hz = filtered_eeg[base_fourth:base_fourth+sampling_rate*20]\n",
    "base_time_24hz = x_[base_fourth:base_fourth+sampling_rate*20]\n",
    "sns.lineplot(x=base_time_24hz,y=base_eeg_24hz)\n",
    "plt.savefig('figures/base24hz.jpg')\n",
    "plt.close()\n",
    "\n",
    "display(HTML(f\"<table><tr><td><img src='figures/eeg24hz.jpg'></td><td><img src='figures/base24hz.jpg'></td></tr></table>\"))\n"
   ]
  },
  {
   "cell_type": "code",
   "execution_count": 105,
   "metadata": {},
   "outputs": [
    {
     "name": "stdout",
     "output_type": "stream",
     "text": [
      "23.4375\n"
     ]
    },
    {
     "data": {
      "text/html": [
       "<table><tr><td><img src='figures/psd_eeg24hz.jpg'></td><td><img src='figures/psd_base24hz.jpg'></td></tr></table>"
      ],
      "text/plain": [
       "<IPython.core.display.HTML object>"
      ]
     },
     "metadata": {},
     "output_type": "display_data"
    }
   ],
   "source": [
    "target_psd_24hz = DataFilter.get_psd_welch(target_eeg_24hz, nfft, nfft // 2, sampling_rate, WindowOperations.BLACKMAN_HARRIS.value)\n",
    "base_psd_24hz = DataFilter.get_psd_welch(base_eeg_24hz, nfft, nfft // 2, sampling_rate, WindowOperations.BLACKMAN_HARRIS.value)\n",
    "\n",
    "sns.lineplot(x=target_psd_24hz[1],y=target_psd_24hz[0])\n",
    "plt.xlim(0, 40)\n",
    "plt.savefig('figures/psd_eeg24hz.jpg')\n",
    "plt.close()\n",
    "sns.lineplot(x=base_psd_24hz[1],y=base_psd_24hz[0])\n",
    "plt.xlim(0, 40)\n",
    "plt.savefig('figures/psd_base24hz.jpg')\n",
    "plt.close()\n",
    "\n",
    "diff_t = (base_psd_24hz[1]+target_psd_24hz[1])/2\n",
    "diff_y = target_psd_24hz[0]-base_psd_24hz[0]\n",
    "print(diff_t[np.argmax(diff_y)])\n",
    "sns.lineplot(x=diff_t,y=diff_y)\n",
    "plt.xlim(0, 40)\n",
    "plt.savefig('figures/psd_diff24hz.jpg')\n",
    "plt.close()\n",
    "\n",
    "display(HTML(f\"<table><tr><td><img src='figures/psd_eeg24hz.jpg'></td><td><img src='figures/psd_base24hz.jpg'></td></tr></table>\"))"
   ]
  },
  {
   "cell_type": "code",
   "execution_count": null,
   "metadata": {},
   "outputs": [],
   "source": []
  }
 ],
 "metadata": {
  "kernelspec": {
   "display_name": "Python 3",
   "language": "python",
   "name": "python3"
  },
  "language_info": {
   "codemirror_mode": {
    "name": "ipython",
    "version": 3
   },
   "file_extension": ".py",
   "mimetype": "text/x-python",
   "name": "python",
   "nbconvert_exporter": "python",
   "pygments_lexer": "ipython3",
   "version": "3.8.9"
  }
 },
 "nbformat": 4,
 "nbformat_minor": 2
}
